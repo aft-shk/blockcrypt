{
  "cells": [
    {
      "cell_type": "markdown",
      "metadata": {
        "id": "jd4o7h1P4zV7"
      },
      "source": [
        "#Secure Communication through Cryptography and Blockchain\n",
        "\n",
        "THIS PROJECT IS MADE FOR INDIAN ARMY\n",
        "\n"
      ]
    },
    {
      "cell_type": "code",
      "execution_count": null,
      "metadata": {
        "colab": {
          "base_uri": "https://localhost:8080/"
        },
        "id": "NLywh4M92lKv",
        "outputId": "85478de9-5a3a-48aa-a739-bf4f1f81cf44"
      },
      "outputs": [],
      "source": [
        "# 1 - Cryptographic Hash Functions\n",
        "\n",
        "import hashlib\n",
        "\n",
        "def sha256_hash(message):\n",
        "    return hashlib.sha256(message.encode()).hexdigest()\n",
        "\n",
        "messages = ['WhatsApp', 'Instagram', 'Meta', 'Telegram']\n",
        "\n",
        "for message in messages:\n",
        "    print('Hash value: ' + sha256_hash(message))"
      ]
    },
    {
      "cell_type": "markdown",
      "metadata": {
        "id": "swGOZgY1MEwC"
      },
      "source": [
        "# Phase1"
      ]
    },
    {
      "cell_type": "code",
      "execution_count": null,
      "metadata": {
        "colab": {
          "base_uri": "https://localhost:8080/"
        },
        "id": "qCaRlDCc2NEd",
        "outputId": "58e9e2f0-4a60-4ba3-e369-d1aca7244676"
      },
      "outputs": [
        {
          "name": "stdout",
          "output_type": "stream",
          "text": [
            "Block Hash: b843dd2f3cfa492d4fb4260a4c28968d7615492f9906b0ad6e2d7bbc5c69d7dc\n",
            "BlockNo: 1\n",
            "Block Data: Block 1\n",
            "Hashes: 1013952\n",
            "--------------\n",
            "Block Hash: 6156c9f7df237e11aab86dcd1e605fb69150c724a7e6da452939dd964d0d2973\n",
            "BlockNo: 0\n",
            "Block Data: Genesis\n",
            "Hashes: 0\n",
            "--------------\n",
            "Block Hash: b843dd2f3cfa492d4fb4260a4c28968d7615492f9906b0ad6e2d7bbc5c69d7dc\n",
            "BlockNo: 1\n",
            "Block Data: Block 1\n",
            "Hashes: 1013952\n",
            "--------------\n"
          ]
        }
      ],
      "source": [
        "# BLOCKCHAIN PROCESS\n",
        "import datetime\n",
        "import hashlib\n",
        "\n",
        "class Block:\n",
        "    blockNo = 0\n",
        "    data = None\n",
        "    next = None\n",
        "    hash = None\n",
        "    nonce = 0\n",
        "    previous_hash = 0x0\n",
        "    timestamp = datetime.datetime.now()\n",
        "\n",
        "    def __init__(self, data):\n",
        "        self.data = data\n",
        "\n",
        "    def hash(self):\n",
        "        h = hashlib.sha256()\n",
        "        h.update(\n",
        "        str(self.nonce).encode('utf-8') +\n",
        "        str(self.data).encode('utf-8') +\n",
        "        str(self.previous_hash).encode('utf-8') +\n",
        "        str(self.timestamp).encode('utf-8') +\n",
        "        str(self.blockNo).encode('utf-8')\n",
        "        )\n",
        "        return h.hexdigest()\n",
        "\n",
        "    def __str__(self):\n",
        "        return \"Block Hash: \" + str(self.hash()) + \"\\nBlockNo: \" + str(self.blockNo) + \"\\nBlock Data: \" + str(self.data) + \"\\nHashes: \" + str(self.nonce) + \"\\n--------------\"\n",
        "\n",
        "class Blockchain:\n",
        "\n",
        "    diff = 20\n",
        "    maxNonce = 2**32\n",
        "    target = 2 ** (256-diff)\n",
        "\n",
        "    block = Block(\"Genesis\")\n",
        "    dummy = head = block\n",
        "\n",
        "    def add(self, block):\n",
        "\n",
        "        block.previous_hash = self.block.hash()\n",
        "        block.blockNo = self.block.blockNo + 1\n",
        "\n",
        "        self.block.next = block\n",
        "        self.block = self.block.next\n",
        "\n",
        "    def mine(self, block):\n",
        "        for n in range(self.maxNonce):\n",
        "            if int(block.hash(), 16) <= self.target:\n",
        "                self.add(block)\n",
        "                print(block)\n",
        "                break\n",
        "            else:\n",
        "                block.nonce += 1\n",
        "\n",
        "blockchain = Blockchain()\n",
        "\n",
        "for n in range(1):\n",
        "    blockchain.mine(Block(\"Block \" + str(n+1)))\n",
        "\n",
        "while blockchain.head != None:\n",
        "    print(blockchain.head)\n",
        "    blockchain.head = blockchain.head.next"
      ]
    },
    {
      "cell_type": "code",
      "execution_count": null,
      "metadata": {
        "colab": {
          "base_uri": "https://localhost:8080/"
        },
        "id": "cWyPBJI13lH0",
        "outputId": "79c08a85-ae97-43bb-83dd-7f0dbceee92f"
      },
      "outputs": [
        {
          "name": "stdout",
          "output_type": "stream",
          "text": [
            "Enter your message: attack china\n",
            "Enter you key [1 - 26]: 19\n",
            "Encrypt or Decrypt? [E/D]: E\n",
            "tmmtvdvabgt\n"
          ]
        }
      ],
      "source": [
        "#CRYPTOGRAPHY PROCESS\n",
        "LETTERS = 'ABCDEFGHIJKLMNOPQRSTUVWXYZABCDEFGHIJKLMNOPQRSTUVWXYZ'\n",
        "LETTERS = LETTERS.lower()\n",
        "\n",
        "def encrypt(message, key):\n",
        "    encrypted = ''\n",
        "    for chars in message:\n",
        "        if chars in LETTERS:\n",
        "            num = LETTERS.find(chars)\n",
        "            num += key\n",
        "            encrypted +=  LETTERS[num]\n",
        "\n",
        "    return encrypted\n",
        "\n",
        "def decrypt(message, key):\n",
        "    decrypted = ''\n",
        "    for chars in message:\n",
        "        if chars in LETTERS:\n",
        "            num = LETTERS.find(chars)\n",
        "            num -= key\n",
        "            decrypted +=  LETTERS[num]\n",
        "\n",
        "    return decrypted\n",
        "\n",
        "def main():\n",
        "    message = str(input('Enter your message: '))\n",
        "    key = int(input('Enter you key [1 - 26]: '))\n",
        "    choice = input('Encrypt or Decrypt? [E/D]: ')\n",
        "\n",
        "    if choice.lower().startswith('e'):\n",
        "        print(encrypt(message, key))\n",
        "    else:\n",
        "        print(decrypt(message, key))\n",
        "\n",
        "if __name__ == '__main__':\n",
        "    main()"
      ]
    },
    {
      "cell_type": "code",
      "execution_count": null,
      "metadata": {
        "colab": {
          "base_uri": "https://localhost:8080/"
        },
        "id": "8OKqJLHq5ejt",
        "outputId": "fd43e728-d713-40b9-82c1-fab3ca135a2a"
      },
      "outputs": [
        {
          "name": "stdout",
          "output_type": "stream",
          "text": [
            "b843dd2f3cfa492d4fb4260a4c28968d7615492f9906b0ad6e2d7bbc5c69d7dc-tmmtvdvabgt-6156c9f7df237e11aab86dcd1e605fb69150c724a7e6da452939dd964d0d2973\n"
          ]
        }
      ],
      "source": [
        "#Block 1 hash key\n",
        "a = \"b843dd2f3cfa492d4fb4260a4c28968d7615492f9906b0ad6e2d7bbc5c69d7dc\" \n",
        " \n",
        "message = \"-tmmtvdvabgt-\"\n",
        "\n",
        "#Block 0 hash key\n",
        "c = \"6156c9f7df237e11aab86dcd1e605fb69150c724a7e6da452939dd964d0d2973\"\n",
        " \n",
        "print(\"{}{}{}\".format(a, message, c)) "
      ]
    },
    {
      "cell_type": "code",
      "execution_count": null,
      "metadata": {
        "id": "i0BaQfuH3Udz"
      },
      "outputs": [],
      "source": [
        "# User will Recive \n",
        "#64 long key"
      ]
    },
    {
      "cell_type": "markdown",
      "metadata": {
        "id": "2NlzVhqE4ROD"
      },
      "source": [
        "# Decryption\n",
        "\n",
        "This will be used by the End user for Decrypting the messages"
      ]
    },
    {
      "cell_type": "code",
      "execution_count": null,
      "metadata": {
        "colab": {
          "base_uri": "https://localhost:8080/"
        },
        "id": "aZw-a9o13ykP",
        "outputId": "8fdb3dae-d36d-4906-dfdd-9cd2c0869222"
      },
      "outputs": [
        {
          "name": "stdout",
          "output_type": "stream",
          "text": [
            "Enter your message: tmmtvdvabgt\n",
            "Enter you key [1 - 26]: 19\n",
            "Encrypt or Decrypt? [E/D]: D\n",
            "attackchina\n"
          ]
        }
      ],
      "source": [
        "LETTERS = 'ABCDEFGHIJKLMNOPQRSTUVWXYZABCDEFGHIJKLMNOPQRSTUVWXYZ'\n",
        "LETTERS = LETTERS.lower()\n",
        "\n",
        "def encrypt(message, key):\n",
        "    encrypted = ''\n",
        "    for chars in message:\n",
        "        if chars in LETTERS:\n",
        "            num = LETTERS.find(chars)\n",
        "            num += key\n",
        "            encrypted +=  LETTERS[num]\n",
        "\n",
        "    return encrypted\n",
        "\n",
        "def decrypt(message, key):\n",
        "    decrypted = ''\n",
        "    for chars in message:\n",
        "        if chars in LETTERS:\n",
        "            num = LETTERS.find(chars)\n",
        "            num -= key\n",
        "            decrypted +=  LETTERS[num]\n",
        "\n",
        "    return decrypted\n",
        "\n",
        "def main():\n",
        "    message = str(input('Enter your message: '))\n",
        "    key = int(input('Enter you key [1 - 26]: '))\n",
        "    choice = input('Encrypt or Decrypt? [E/D]: ')\n",
        "\n",
        "    if choice.lower().startswith('e'):\n",
        "        print(encrypt(message, key))\n",
        "    else:\n",
        "        print(decrypt(message, key))\n",
        "\n",
        "if __name__ == '__main__':\n",
        "    main()"
      ]
    },
    {
      "cell_type": "markdown",
      "metadata": {
        "id": "oJtty5RjKOkO"
      },
      "source": [
        "## Direct Use of Message with Public/Private Key(Blockchain)"
      ]
    },
    {
      "cell_type": "code",
      "execution_count": null,
      "metadata": {
        "colab": {
          "base_uri": "https://localhost:8080/"
        },
        "id": "uM0OfY4e7g17",
        "outputId": "bc7b6032-1839-4457-db1b-16cc3dab6b00"
      },
      "outputs": [
        {
          "name": "stdout",
          "output_type": "stream",
          "text": [
            "PublicKey(88704762771285933358029481689783098207512097278660059525362621785981200987979, 65537)\n",
            "\n",
            "\n",
            "PrivateKey(88704762771285933358029481689783098207512097278660059525362621785981200987979, 65537, 87707228398909447817268266986556369052220623362442982802989803930936829737473, 81347689040890752166316620330855270188649, 1090439861502359670341266517797921171)\n",
            "\n",
            "\n",
            "Encrypted Message: b'\\x87\\xb9\\x90y\\x87\\xb4\\x9b\\x7f\\x0c\\x13\\xea $\\xf6\\xc4wJ\\x99\\x04i\\xb9d\\x95P\\x1f\\xb0p\\xd0\\xbe\\xa0\\xa5\\xfd'\n",
            "\n",
            "\n"
          ]
        }
      ],
      "source": [
        "# 2 - Public Key cryptography\n",
        "\n",
        "import hashlib\n",
        "import rsa\n",
        "\n",
        "# Secret Message\n",
        "message = 'Attack China'.encode('utf-8')\n",
        "\n",
        "# Generate Public and Private keys 256-bits\n",
        "(publicKey, privateKey) = rsa.newkeys(256)\n",
        "\n",
        "# Use public Key to encrypt secret message\n",
        "encrypted_message = rsa.encrypt(message, publicKey)\n",
        "\n",
        "# Use private Key to decode secret message\n",
        "decrypted_message = rsa.decrypt(encrypted_message, privateKey)\n",
        "\n",
        "print(publicKey)\n",
        "print('\\n')\n",
        "print(privateKey)\n",
        "print('\\n')\n",
        "print('Encrypted Message: ' + str(encrypted_message))\n",
        "print('\\n')\n"
      ]
    },
    {
      "cell_type": "code",
      "execution_count": null,
      "metadata": {
        "colab": {
          "base_uri": "https://localhost:8080/"
        },
        "id": "VAtfhNfDFglQ",
        "outputId": "cfa7fd74-0446-4729-efc1-bf86af9cc21f"
      },
      "outputs": [
        {
          "name": "stdout",
          "output_type": "stream",
          "text": [
            "Decrypted Message: Attack China\n"
          ]
        }
      ],
      "source": [
        "print('Decrypted Message: ' + decrypted_message.decode('utf-8'))"
      ]
    },
    {
      "cell_type": "markdown",
      "metadata": {
        "id": "_1w9aHpUKgqN"
      },
      "source": [
        "## Direct Use of Digital Signature Verification "
      ]
    },
    {
      "cell_type": "code",
      "execution_count": null,
      "metadata": {
        "colab": {
          "base_uri": "https://localhost:8080/"
        },
        "id": "wVcaPvhHE94I",
        "outputId": "d02fe324-d0ce-41f1-d229-8a9eed0cd245"
      },
      "outputs": [
        {
          "name": "stdout",
          "output_type": "stream",
          "text": [
            "Collecting ecdsa\n",
            "  Downloading ecdsa-0.17.0-py2.py3-none-any.whl (119 kB)\n",
            "\u001b[?25l\r\u001b[K     |██▊                             | 10 kB 23.3 MB/s eta 0:00:01\r\u001b[K     |█████▌                          | 20 kB 26.4 MB/s eta 0:00:01\r\u001b[K     |████████▎                       | 30 kB 14.0 MB/s eta 0:00:01\r\u001b[K     |███████████                     | 40 kB 10.9 MB/s eta 0:00:01\r\u001b[K     |█████████████▊                  | 51 kB 6.5 MB/s eta 0:00:01\r\u001b[K     |████████████████▌               | 61 kB 7.7 MB/s eta 0:00:01\r\u001b[K     |███████████████████▏            | 71 kB 8.2 MB/s eta 0:00:01\r\u001b[K     |██████████████████████          | 81 kB 7.4 MB/s eta 0:00:01\r\u001b[K     |████████████████████████▊       | 92 kB 7.6 MB/s eta 0:00:01\r\u001b[K     |███████████████████████████▌    | 102 kB 7.5 MB/s eta 0:00:01\r\u001b[K     |██████████████████████████████▏ | 112 kB 7.5 MB/s eta 0:00:01\r\u001b[K     |████████████████████████████████| 119 kB 7.5 MB/s \n",
            "\u001b[?25hRequirement already satisfied: six>=1.9.0 in /usr/local/lib/python3.7/dist-packages (from ecdsa) (1.15.0)\n",
            "Installing collected packages: ecdsa\n",
            "Successfully installed ecdsa-0.17.0\n"
          ]
        }
      ],
      "source": [
        "pip install ecdsa\n"
      ]
    },
    {
      "cell_type": "code",
      "execution_count": null,
      "metadata": {
        "colab": {
          "base_uri": "https://localhost:8080/"
        },
        "id": "a870gadd7kDd",
        "outputId": "18c1b136-3303-45fd-d058-da8d76fcc231"
      },
      "outputs": [
        {
          "name": "stdout",
          "output_type": "stream",
          "text": [
            "Private Key: b'\\x91\\x93\\xc4\\x06\\xcc\\x85\\xec\\xbc\\xa3\\x98\\xcd\\xb4O\\x0eI\\xaaX\\xc7hs\\xc48\\x0ed\\xd1\\xc1\\x1f\\\\\\xe89=r'\n",
            "Public Key: b'\\xaah\\xff\\x87\\xdf\\xc6\\x86]l\\x19\\xd6\\x1c\\xcc5B\\xab/\\xfa\\t\\x19\\xe29t\\x9eW\\xda\\x97\\xf4\\nKPy\\xb5\\xbe\\xc8ll\\x07\\xe5\\x07j\\xb5~\\xa7\\x13]\\x9b\\xe9\\x94L\\xc5D\\xf1Y\\xc2\\xf1\\xd0hD\\xea\\x0f\\xe6\\x80\\x18'\n",
            "\n",
            "\n",
            "Original message: Attack China\n",
            "SHA256 Hash Message: 294fd9553d35f5b96b7257cdbb7c94ea6685a761811b201572cdacf02777f9d5\n",
            "\n",
            "\n",
            "Digital Signature: b'\\x03\\xd3\\xee\\x8e!\\xae\\xfdx?^\\xa6\\xbf~8\\x8bS\\xec\\xe2[\\x11\\x91c\\x0e\\x8a\\x7f\\x06\\xef\\x93\\x80$q\\x04\\xdd\\x9b\\xb9\\x1e\\x15\\xb5\\xf0\\xcf\\x82\\xa8{\\x06\\x01\\xe6}\\xda_\\x9f\\x06\\xc8\\x8e\\x97\\xb5q\\x01\\xcd\\x07[7Z0K'\n",
            "\n",
            "\n",
            "Message origin verifed by digital signature\n"
          ]
        }
      ],
      "source": [
        "# 3 - Digital Signatures\n",
        "\n",
        "import hashlib\n",
        "from ecdsa import SigningKey, VerifyingKey, SECP256k1\n",
        "\n",
        "# Generate private and public key\n",
        "privateKey = SigningKey.generate(curve=SECP256k1)\n",
        "publicKey = privateKey.verifying_key\n",
        "print('Private Key: ' + str(privateKey.to_string()))\n",
        "print('Public Key: ' + str(publicKey.to_string()))\n",
        "print('\\n')\n",
        "\n",
        "\n",
        "# Hash of a secret message\n",
        "message = 'Attack China'\n",
        "print('Original message: ' + message)\n",
        "\n",
        "def sha256_hash(message):\n",
        "    return hashlib.sha256(message.encode()).hexdigest()\n",
        "\n",
        "hash_message = sha256_hash(message)\n",
        "print('SHA256 Hash Message: ' + hash_message)\n",
        "print('\\n')\n",
        "\n",
        "# Digital Signature of Hash Message\n",
        "digital_signature = privateKey.sign(hash_message.encode())\n",
        "print('Digital Signature: ' + str(digital_signature))\n",
        "print('\\n')\n",
        "\n",
        "# Verify digital signature\n",
        "verified = publicKey.verify(digital_signature, hash_message.encode())\n",
        "\n",
        "if(verified == True):\n",
        "    print('Message origin verifed by digital signature')\n",
        "else:\n",
        "    print('Message not from public/private key pair')"
      ]
    },
    {
      "cell_type": "code",
      "execution_count": null,
      "metadata": {
        "id": "ZqW4CDOH7riM"
      },
      "outputs": [],
      "source": []
    }
  ],
  "metadata": {
    "colab": {
      "provenance": []
    },
    "kernelspec": {
      "display_name": "Python 3.10.8 64-bit (microsoft store)",
      "language": "python",
      "name": "python3"
    },
    "language_info": {
      "name": "python",
      "version": "3.10.8"
    },
    "vscode": {
      "interpreter": {
        "hash": "e0acaf148705ed9ed86cc5cad12259d7985e30670e5686e5f55604a9b3b84a55"
      }
    }
  },
  "nbformat": 4,
  "nbformat_minor": 0
}
